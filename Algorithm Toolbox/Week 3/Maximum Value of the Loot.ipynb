{
 "cells": [
  {
   "cell_type": "code",
   "execution_count": 20,
   "metadata": {},
   "outputs": [
    {
     "name": "stdout",
     "output_type": "stream",
     "text": [
      "500\n",
      "30\n",
      "10\n"
     ]
    }
   ],
   "source": [
    "value = list(map(int,input().split(\" \")))\n",
    "weight = list(map(int,input().split(\" \")))\n",
    "capacity = int(input())"
   ]
  },
  {
   "cell_type": "code",
   "execution_count": 21,
   "metadata": {},
   "outputs": [
    {
     "name": "stdout",
     "output_type": "stream",
     "text": [
      "[0]\n"
     ]
    }
   ],
   "source": [
    "index = list(range(len(weight)))\n",
    "print(index)"
   ]
  },
  {
   "cell_type": "code",
   "execution_count": 22,
   "metadata": {},
   "outputs": [],
   "source": [
    "ratio = [v/w for v,w in zip(value,weight)]\n",
    "index.sort(key = lambda i: ratio[i], reverse = True)"
   ]
  },
  {
   "cell_type": "code",
   "execution_count": 23,
   "metadata": {},
   "outputs": [
    {
     "name": "stdout",
     "output_type": "stream",
     "text": [
      "[0]\n"
     ]
    }
   ],
   "source": [
    "print(index)"
   ]
  },
  {
   "cell_type": "code",
   "execution_count": 24,
   "metadata": {},
   "outputs": [
    {
     "name": "stdout",
     "output_type": "stream",
     "text": [
      "166.66666666666666\n"
     ]
    }
   ],
   "source": [
    "max_value = 0\n",
    "fractions = [0]*len(value)\n",
    "for i in index:\n",
    "    if weight[i]<=capacity:\n",
    "        fractions[i] = 1\n",
    "        max_value+=value[i]\n",
    "        capacity-=weight[i]\n",
    "    else:\n",
    "        fractions[i] = capacity/weight[i]\n",
    "        max_value+=value[i]*(capacity/weight[i])\n",
    "        break\n",
    "    \n",
    "print(round(max_value,4)\n"
   ]
  },
  {
   "cell_type": "code",
   "execution_count": 27,
   "metadata": {},
   "outputs": [
    {
     "name": "stdout",
     "output_type": "stream",
     "text": [
      "166.6667\n",
      "[0.3333333333333333]\n"
     ]
    }
   ],
   "source": [
    "print(round(max_value,4))\n",
    "print(fractions)"
   ]
  },
  {
   "cell_type": "code",
   "execution_count": null,
   "metadata": {},
   "outputs": [],
   "source": []
  }
 ],
 "metadata": {
  "kernelspec": {
   "display_name": "Python 3",
   "language": "python",
   "name": "python3"
  },
  "language_info": {
   "codemirror_mode": {
    "name": "ipython",
    "version": 3
   },
   "file_extension": ".py",
   "mimetype": "text/x-python",
   "name": "python",
   "nbconvert_exporter": "python",
   "pygments_lexer": "ipython3",
   "version": "3.7.4"
  }
 },
 "nbformat": 4,
 "nbformat_minor": 2
}
