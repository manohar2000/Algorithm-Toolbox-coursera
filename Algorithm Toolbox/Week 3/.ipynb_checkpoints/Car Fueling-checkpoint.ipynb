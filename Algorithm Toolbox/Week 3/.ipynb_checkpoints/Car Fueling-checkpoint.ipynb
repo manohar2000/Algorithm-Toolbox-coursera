{
 "cells": [
  {
   "cell_type": "code",
   "execution_count": 1,
   "metadata": {},
   "outputs": [],
   "source": [
    "def compute_min_refills(d, m, stops):\n",
    "    flag = 1\n",
    "    stops.insert(0,0)\n",
    "    stops.append(d)\n",
    "    numRefills = 0\n",
    "    currentRefill = 0\n",
    "\n",
    "    while(currentRefill<len(stops)-1):    \n",
    "        lastRefill=currentRefill\n",
    "        try:\n",
    "            while(currentRefill<len(stops) and (stops[currentRefill+1]-stops[lastRefill]<=m)):        \n",
    "                currentRefill+=1            \n",
    "        except:\n",
    "            pass     \n",
    "\n",
    "\n",
    "        if(currentRefill == lastRefill):\n",
    "            flag = 0\n",
    "            break\n",
    "\n",
    "        else:\n",
    "            numRefills+=1\n",
    "\n",
    "\n",
    "\n",
    "    if(flag):\n",
    "        return numRefills\n",
    "    else:\n",
    "        return -1\n"
   ]
  },
  {
   "cell_type": "code",
   "execution_count": 2,
   "metadata": {},
   "outputs": [
    {
     "name": "stdout",
     "output_type": "stream",
     "text": [
      "200\n",
      "250\n",
      "100 150\n",
      "0\n"
     ]
    }
   ],
   "source": [
    "#if __name__ == '__main__':\n",
    "d = int(input())\n",
    "m = int(input())\n",
    "stops = list(map(int,input().split(\" \")))\n",
    "print(compute_min_refills(d, m, stops)-1)"
   ]
  }
 ],
 "metadata": {
  "kernelspec": {
   "display_name": "Python 3",
   "language": "python",
   "name": "python3"
  },
  "language_info": {
   "codemirror_mode": {
    "name": "ipython",
    "version": 3
   },
   "file_extension": ".py",
   "mimetype": "text/x-python",
   "name": "python",
   "nbconvert_exporter": "python",
   "pygments_lexer": "ipython3",
   "version": "3.7.4"
  }
 },
 "nbformat": 4,
 "nbformat_minor": 2
}
